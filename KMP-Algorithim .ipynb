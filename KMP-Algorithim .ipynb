{
 "cells": [
  {
   "cell_type": "code",
   "execution_count": 18,
   "metadata": {},
   "outputs": [],
   "source": [
    "# KMP code from <https://www.geeksforgeeks.org/kmp-algorithm-for-pattern-searching/>\n",
    "# An existing algorithim \n",
    "\n",
    "# Python program for KMP Algorithm \n",
    "def KMPSearch(pat, txt): \n",
    "    M = len(pat) \n",
    "    N = len(txt) \n",
    "  \n",
    "    # create lps[] that will hold the longest prefix suffix  \n",
    "    # values for pattern \n",
    "    lps = [0]*M \n",
    "    j = 0 # index for pat[] \n",
    "  \n",
    "    # Preprocess the pattern (calculate lps[] array) \n",
    "    computeLPSArray(pat, M, lps) \n",
    "  \n",
    "    i = 0 # index for txt[] \n",
    "    while i < N: \n",
    "        if pat[j] == txt[i]: \n",
    "            i += 1\n",
    "            j += 1\n",
    "  \n",
    "        if j == M: \n",
    "            print (\"Found pattern at index \" + str(i-j)) \n",
    "            j = lps[j-1] \n",
    "  \n",
    "        # mismatch after j matches \n",
    "        elif i < N and pat[j] != txt[i]: \n",
    "            # Do not match lps[0..lps[j-1]] characters, \n",
    "            # they will match anyway \n",
    "            if j != 0: \n",
    "                j = lps[j-1] \n",
    "            else: \n",
    "                i += 1\n",
    "                \n",
    "def computeLPSArray(pat, M, lps): \n",
    "    len = 0 # length of the previous longest prefix suffix \n",
    "  \n",
    "    lps[0] # lps[0] is always 0 \n",
    "    i = 1\n",
    "  \n",
    "    # the loop calculates lps[i] for i = 1 to M-1 \n",
    "    while i < M: \n",
    "        if pat[i]== pat[len]: \n",
    "            len += 1\n",
    "            lps[i] = len\n",
    "            i += 1\n",
    "        else: \n",
    "            # This is tricky. Consider the example. \n",
    "            # AAACAAAA and i = 7. The idea is similar  \n",
    "            # to search step. \n",
    "            if len != 0: \n",
    "                len = lps[len-1] \n",
    "  \n",
    "                # Also, note that we do not increment i here \n",
    "            else: \n",
    "                lps[i] = 0\n",
    "                i += 1"
   ]
  },
  {
   "cell_type": "code",
   "execution_count": 19,
   "metadata": {},
   "outputs": [],
   "source": [
    "# creating an array to hold all of our datasets\n",
    "dataset = []\n",
    "\n",
    "for i in range(10):\n",
    "    f = open(\"./dataset/\"+str(i)+\".txt\",\"r\")\n",
    "    dataset.append(f.read())"
   ]
  },
  {
   "cell_type": "code",
   "execution_count": null,
   "metadata": {},
   "outputs": [],
   "source": []
  }
 ],
 "metadata": {
  "kernelspec": {
   "display_name": "Python 3",
   "language": "python",
   "name": "python3"
  },
  "language_info": {
   "codemirror_mode": {
    "name": "ipython",
    "version": 3
   },
   "file_extension": ".py",
   "mimetype": "text/x-python",
   "name": "python",
   "nbconvert_exporter": "python",
   "pygments_lexer": "ipython3",
   "version": "3.8.5"
  }
 },
 "nbformat": 4,
 "nbformat_minor": 4
}
